{
  "nbformat": 4,
  "nbformat_minor": 0,
  "metadata": {
    "colab": {
      "provenance": []
    },
    "kernelspec": {
      "name": "python3",
      "display_name": "Python 3"
    },
    "language_info": {
      "name": "python"
    }
  },
  "cells": [
    {
      "cell_type": "markdown",
      "metadata": {
        "id": "PTCo18Elq0GA"
      },
      "source": [
        "# Importing necessary libraries"
      ]
    },
    {
      "cell_type": "code",
      "metadata": {
        "id": "Ryqq4ZTPdHWx"
      },
      "source": [
        "from PIL import Image\n",
        "import os\n",
        "import numpy as np\n",
        "import threading"
      ],
      "execution_count": null,
      "outputs": []
    },
    {
      "cell_type": "markdown",
      "metadata": {
        "id": "F-o0kD4eeI1d"
      },
      "source": [
        "# paths to Manoj's file"
      ]
    },
    {
      "cell_type": "code",
      "metadata": {
        "id": "U6VB6gGjdZ-w"
      },
      "source": [
        "path_to_file_manoj_1 = \"/content/drive/MyDrive/Kannada Mnist/Dataset/Manoj/MNIST Ready/1/\"\n",
        "path_to_file_manoj_2 = \"/content/drive/MyDrive/Kannada Mnist/Dataset/Manoj/MNIST Ready/2/\"\n",
        "path_to_file_manoj_3 = \"/content/drive/MyDrive/Kannada Mnist/Dataset/Manoj/MNIST Ready/3/\"\n",
        "path_to_file_manoj_4 = \"/content/drive/MyDrive/Kannada Mnist/Dataset/Manoj/MNIST Ready/4/\"\n",
        "path_to_file_manoj_5 = \"/content/drive/MyDrive/Kannada Mnist/Dataset/Manoj/MNIST Ready/5/\"\n",
        "path_to_file_manoj_6 = \"/content/drive/MyDrive/Kannada Mnist/Dataset/Manoj/MNIST Ready/6/\"\n",
        "path_to_file_manoj_7 = \"/content/drive/MyDrive/Kannada Mnist/Dataset/Manoj/MNIST Ready/7/\"\n",
        "path_to_file_manoj_8 = \"/content/drive/MyDrive/Kannada Mnist/Dataset/Manoj/MNIST Ready/8/\"\n",
        "path_to_file_manoj_9 = \"/content/drive/MyDrive/Kannada Mnist/Dataset/Manoj/MNIST Ready/9/\"\n",
        "path_to_file_manoj_10 = \"/content/drive/MyDrive/Kannada Mnist/Dataset/Manoj/MNIST Ready/10/\"\n",
        "path_to_file_manoj_11 = \"/content/drive/MyDrive/Kannada Mnist/Dataset/Manoj/MNIST Ready/11/\"\n",
        "path_to_file_manoj_12 = \"/content/drive/MyDrive/Kannada Mnist/Dataset/Manoj/MNIST Ready/12/\""
      ],
      "execution_count": null,
      "outputs": []
    },
    {
      "cell_type": "markdown",
      "metadata": {
        "id": "Npw_AGqofyz-"
      },
      "source": [
        "# paths to Abbas's files"
      ]
    },
    {
      "cell_type": "code",
      "metadata": {
        "id": "zNcKWpkgfryx"
      },
      "source": [
        "path_to_file_abbas_1 = \"/content/drive/MyDrive/Kannada Mnist/Dataset/Abbas/MNIST Ready/1/\"\n",
        "path_to_file_abbas_2 = \"/content/drive/MyDrive/Kannada Mnist/Dataset/Abbas/MNIST Ready/2/\"\n",
        "path_to_file_abbas_3 = \"/content/drive/MyDrive/Kannada Mnist/Dataset/Abbas/MNIST Ready/3/\"\n",
        "path_to_file_abbas_4 = \"/content/drive/MyDrive/Kannada Mnist/Dataset/Abbas/MNIST Ready/4/\"\n",
        "path_to_file_abbas_5 = \"/content/drive/MyDrive/Kannada Mnist/Dataset/Abbas/MNIST Ready/5/\"\n",
        "path_to_file_abbas_6 = \"/content/drive/MyDrive/Kannada Mnist/Dataset/Abbas/MNIST Ready/6/\"\n",
        "path_to_file_abbas_7 = \"/content/drive/MyDrive/Kannada Mnist/Dataset/Abbas/MNIST Ready/7/\"\n",
        "path_to_file_abbas_8 = \"/content/drive/MyDrive/Kannada Mnist/Dataset/Abbas/MNIST Ready/8/\"\n",
        "path_to_file_abbas_9 = \"/content/drive/MyDrive/Kannada Mnist/Dataset/Abbas/MNIST Ready/9/\"\n",
        "path_to_file_abbas_10 = \"/content/drive/MyDrive/Kannada Mnist/Dataset/Abbas/MNIST Ready/10/\"\n",
        "path_to_file_abbas_11 = \"/content/drive/MyDrive/Kannada Mnist/Dataset/Abbas/MNIST Ready/11/\"\n",
        "path_to_file_abbas_12 = \"/content/drive/MyDrive/Kannada Mnist/Dataset/Abbas/MNIST Ready/12/\""
      ],
      "execution_count": null,
      "outputs": []
    },
    {
      "cell_type": "markdown",
      "metadata": {
        "id": "aChLq2zQf84L"
      },
      "source": [
        "# Paths to Akashdeep's files"
      ]
    },
    {
      "cell_type": "code",
      "metadata": {
        "id": "UFQ50RX8f8E-"
      },
      "source": [
        "path_to_file_akash_1 = \"/content/drive/MyDrive/Kannada Mnist/Dataset/Akashdeep/MNIST Ready/1/\"\n",
        "path_to_file_akash_2 = \"/content/drive/MyDrive/Kannada Mnist/Dataset/Akashdeep/MNIST Ready/2/\"\n",
        "path_to_file_akash_3 = \"/content/drive/MyDrive/Kannada Mnist/Dataset/Akashdeep/MNIST Ready/3/\"\n",
        "path_to_file_akash_4 = \"/content/drive/MyDrive/Kannada Mnist/Dataset/Akashdeep/MNIST Ready/4/\"\n",
        "path_to_file_akash_5 = \"/content/drive/MyDrive/Kannada Mnist/Dataset/Akashdeep/MNIST Ready/5/\"\n",
        "path_to_file_akash_6 = \"/content/drive/MyDrive/Kannada Mnist/Dataset/Akashdeep/MNIST Ready/6/\"\n",
        "path_to_file_akash_7 = \"/content/drive/MyDrive/Kannada Mnist/Dataset/Akashdeep/MNIST Ready/7/\"\n",
        "path_to_file_akash_8 = \"/content/drive/MyDrive/Kannada Mnist/Dataset/Akashdeep/MNIST Ready/8/\"\n",
        "path_to_file_akash_9 = \"/content/drive/MyDrive/Kannada Mnist/Dataset/Akashdeep/MNIST Ready/9/\"\n",
        "path_to_file_akash_10 = \"/content/drive/MyDrive/Kannada Mnist/Dataset/Akashdeep/MNIST Ready/10/\"\n",
        "path_to_file_akash_11 = \"/content/drive/MyDrive/Kannada Mnist/Dataset/Akashdeep/MNIST Ready/11/\"\n",
        "path_to_file_akash_12 = \"/content/drive/MyDrive/Kannada Mnist/Dataset/Akashdeep/MNIST Ready/12/\""
      ],
      "execution_count": null,
      "outputs": []
    },
    {
      "cell_type": "markdown",
      "metadata": {
        "id": "ZhVT6cMogFem"
      },
      "source": [
        "# Paths to Anoop's files"
      ]
    },
    {
      "cell_type": "code",
      "metadata": {
        "id": "7QoYaN57gAwr"
      },
      "source": [
        "path_to_file_anoop_1 = \"/content/drive/MyDrive/Kannada Mnist/Dataset/Anoop/MNIST Ready/1/\"\n",
        "path_to_file_anoop_2 = \"/content/drive/MyDrive/Kannada Mnist/Dataset/Anoop/MNIST Ready/2/\"\n",
        "path_to_file_anoop_3 = \"/content/drive/MyDrive/Kannada Mnist/Dataset/Anoop/MNIST Ready/3/\"\n",
        "path_to_file_anoop_4 = \"/content/drive/MyDrive/Kannada Mnist/Dataset/Anoop/MNIST Ready/4/\"\n",
        "path_to_file_anoop_5 = \"/content/drive/MyDrive/Kannada Mnist/Dataset/Anoop/MNIST Ready/5/\"\n",
        "path_to_file_anoop_6 = \"/content/drive/MyDrive/Kannada Mnist/Dataset/Anoop/MNIST Ready/6/\"\n",
        "path_to_file_anoop_7 = \"/content/drive/MyDrive/Kannada Mnist/Dataset/Anoop/MNIST Ready/7/\"\n",
        "path_to_file_anoop_8 = \"/content/drive/MyDrive/Kannada Mnist/Dataset/Anoop/MNIST Ready/8/\"\n",
        "path_to_file_anoop_9 = \"/content/drive/MyDrive/Kannada Mnist/Dataset/Anoop/MNIST Ready/9/\"\n",
        "path_to_file_anoop_10 = \"/content/drive/MyDrive/Kannada Mnist/Dataset/Anoop/MNIST Ready/10/\"\n",
        "path_to_file_anoop_11 = \"/content/drive/MyDrive/Kannada Mnist/Dataset/Anoop/MNIST Ready/11/\"\n",
        "path_to_file_anoop_12 = \"/content/drive/MyDrive/Kannada Mnist/Dataset/Anoop/MNIST Ready/12/\""
      ],
      "execution_count": null,
      "outputs": []
    },
    {
      "cell_type": "markdown",
      "metadata": {
        "id": "_Gcq9Rp0gm7y"
      },
      "source": [
        "# 12 threads for vectorizing each character written by Manoj"
      ]
    },
    {
      "cell_type": "code",
      "metadata": {
        "id": "pcvqhgkGgtUv"
      },
      "source": [
        "def task1():\n",
        "  global vectorized_images_manoj1\n",
        "  vectorized_images_manoj1 = [] # empty list\n",
        "  for _, file in enumerate(os.listdir(path_to_file_manoj_1)):\n",
        "    image = Image.open(path_to_file_manoj_1+file)\n",
        "    image_array = np.array(image)\n",
        "    vectorized_images_manoj1.append(image_array)\n",
        "\n",
        "def task2():\n",
        "  global vectorized_images_manoj2\n",
        "  vectorized_images_manoj2 = []\n",
        "  for _, file in enumerate(os.listdir(path_to_file_manoj_2)):\n",
        "    image = Image.open(path_to_file_manoj_2+file)\n",
        "    image_array = np.array(image)\n",
        "    vectorized_images_manoj2.append(image_array)\n",
        "\n",
        "def task3():\n",
        "  global vectorized_images_manoj3\n",
        "  vectorized_images_manoj3 = []\n",
        "  for _, file in enumerate(os.listdir(path_to_file_manoj_3)):\n",
        "    image = Image.open(path_to_file_manoj_3+file)\n",
        "    image_array = np.array(image)\n",
        "    vectorized_images_manoj3.append(image_array)\n",
        "\n",
        "def task4():\n",
        "  global vectorized_images_manoj4\n",
        "  vectorized_images_manoj4 = []\n",
        "  for _, file in enumerate(os.listdir(path_to_file_manoj_4)):\n",
        "    image = Image.open(path_to_file_manoj_4+file)\n",
        "    image_array = np.array(image)\n",
        "    vectorized_images_manoj4.append(image_array)\n",
        "\n",
        "def task5():\n",
        "  global vectorized_images_manoj5\n",
        "  vectorized_images_manoj5 = []\n",
        "  for _, file in enumerate(os.listdir(path_to_file_manoj_5)):\n",
        "    image = Image.open(path_to_file_manoj_5+file)\n",
        "    image_array = np.array(image)\n",
        "    vectorized_images_manoj5.append(image_array)\n",
        "\n",
        "def task6():\n",
        "  global vectorized_images_manoj6\n",
        "  vectorized_images_manoj6 = []\n",
        "  for _, file in enumerate(os.listdir(path_to_file_manoj_6)):\n",
        "    image = Image.open(path_to_file_manoj_6+file)\n",
        "    image_array = np.array(image)\n",
        "    vectorized_images_manoj6.append(image_array)\n",
        "\n",
        "def task7():\n",
        "  global vectorized_images_manoj7\n",
        "  vectorized_images_manoj7 = []\n",
        "  for _, file in enumerate(os.listdir(path_to_file_manoj_7)):\n",
        "    image = Image.open(path_to_file_manoj_7+file)\n",
        "    image_array = np.array(image)\n",
        "    vectorized_images_manoj7.append(image_array)\n",
        "\n",
        "def task8():\n",
        "  global vectorized_images_manoj8\n",
        "  vectorized_images_manoj8 = []\n",
        "  for _, file in enumerate(os.listdir(path_to_file_manoj_8)):\n",
        "    image = Image.open(path_to_file_manoj_8+file)\n",
        "    image_array = np.array(image)\n",
        "    vectorized_images_manoj8.append(image_array)\n",
        "\n",
        "def task9():\n",
        "  global vectorized_images_manoj9\n",
        "  vectorized_images_manoj9 = []\n",
        "  for _, file in enumerate(os.listdir(path_to_file_manoj_9)):\n",
        "    image = Image.open(path_to_file_manoj_9+file)\n",
        "    image_array = np.array(image)\n",
        "    vectorized_images_manoj9.append(image_array)\n",
        "\n",
        "def task10():\n",
        "  global vectorized_images_manoj10\n",
        "  vectorized_images_manoj10 = []\n",
        "  for _, file in enumerate(os.listdir(path_to_file_manoj_10)):\n",
        "    image = Image.open(path_to_file_manoj_10+file)\n",
        "    image_array = np.array(image)\n",
        "    vectorized_images_manoj10.append(image_array)\n",
        "\n",
        "def task11():\n",
        "  global vectorized_images_manoj11\n",
        "  vectorized_images_manoj11 = []\n",
        "  for _, file in enumerate(os.listdir(path_to_file_manoj_11)):\n",
        "    image = Image.open(path_to_file_manoj_11+file)\n",
        "    image_array = np.array(image)\n",
        "    vectorized_images_manoj11.append(image_array)\n",
        "\n",
        "def task12():\n",
        "  global vectorized_images_manoj12\n",
        "  vectorized_images_manoj12 = []\n",
        "  for _, file in enumerate(os.listdir(path_to_file_manoj_12)):\n",
        "    image = Image.open(path_to_file_manoj_12+file)\n",
        "    image_array = np.array(image)\n",
        "    vectorized_images_manoj12.append(image_array)"
      ],
      "execution_count": null,
      "outputs": []
    },
    {
      "cell_type": "markdown",
      "metadata": {
        "id": "x0hnsEpNiH6B"
      },
      "source": [
        "# 12 threads for vectorizing each character written by Abbas"
      ]
    },
    {
      "cell_type": "code",
      "metadata": {
        "id": "Y15DBukqiDhU"
      },
      "source": [
        "def taskabbas1():\n",
        "  global vectorized_images_abbas1\n",
        "  vectorized_images_abbas1 = []\n",
        "  for _, file in enumerate(os.listdir(path_to_file_abbas_1)):\n",
        "    image = Image.open(path_to_file_abbas_1+file)\n",
        "    image_array = np.array(image)\n",
        "    vectorized_images_abbas1.append(image_array)\n",
        "\n",
        "def taskabbas2():\n",
        "  global vectorized_images_abbas2\n",
        "  vectorized_images_abbas2 = []\n",
        "  for _, file in enumerate(os.listdir(path_to_file_abbas_2)):\n",
        "    image = Image.open(path_to_file_abbas_2+file)\n",
        "    image_array = np.array(image)\n",
        "    vectorized_images_abbas2.append(image_array)\n",
        "\n",
        "def taskabbas3():\n",
        "  global vectorized_images_abbas3\n",
        "  vectorized_images_abbas3 = []\n",
        "  for _, file in enumerate(os.listdir(path_to_file_abbas_3)):\n",
        "    image = Image.open(path_to_file_abbas_3+file)\n",
        "    image_array = np.array(image)\n",
        "    vectorized_images_abbas3.append(image_array)\n",
        "\n",
        "def taskabbas4():\n",
        "  global vectorized_images_abbas4\n",
        "  vectorized_images_abbas4 = []\n",
        "  for _, file in enumerate(os.listdir(path_to_file_abbas_4)):\n",
        "    image = Image.open(path_to_file_abbas_4+file)\n",
        "    image_array = np.array(image)\n",
        "    vectorized_images_abbas4.append(image_array)\n",
        "\n",
        "def taskabbas5():\n",
        "  global vectorized_images_abbas5\n",
        "  vectorized_images_abbas5 = []\n",
        "  for _, file in enumerate(os.listdir(path_to_file_abbas_5)):\n",
        "    image = Image.open(path_to_file_abbas_5+file)\n",
        "    image_array = np.array(image)\n",
        "    vectorized_images_abbas5.append(image_array)\n",
        "\n",
        "def taskabbas6():\n",
        "  global vectorized_images_abbas6\n",
        "  vectorized_images_abbas6 = []\n",
        "  for _, file in enumerate(os.listdir(path_to_file_abbas_6)):\n",
        "    image = Image.open(path_to_file_abbas_6+file)\n",
        "    image_array = np.array(image)\n",
        "    vectorized_images_abbas6.append(image_array)\n",
        "\n",
        "def taskabbas7():\n",
        "  global vectorized_images_abbas7\n",
        "  vectorized_images_abbas7 = []\n",
        "  for _, file in enumerate(os.listdir(path_to_file_abbas_7)):\n",
        "    image = Image.open(path_to_file_abbas_7+file)\n",
        "    image_array = np.array(image)\n",
        "    vectorized_images_abbas7.append(image_array)\n",
        "\n",
        "def taskabbas8():\n",
        "  global vectorized_images_abbas8\n",
        "  vectorized_images_abbas8 = []\n",
        "  for _, file in enumerate(os.listdir(path_to_file_abbas_8)):\n",
        "    image = Image.open(path_to_file_abbas_8+file)\n",
        "    image_array = np.array(image)\n",
        "    vectorized_images_abbas8.append(image_array)\n",
        "\n",
        "def taskabbas9():\n",
        "  global vectorized_images_abbas9\n",
        "  vectorized_images_abbas9 = []\n",
        "  for _, file in enumerate(os.listdir(path_to_file_abbas_9)):\n",
        "    image = Image.open(path_to_file_abbas_9+file)\n",
        "    image_array = np.array(image)\n",
        "    vectorized_images_abbas9.append(image_array)\n",
        "\n",
        "def taskabbas10():\n",
        "  global vectorized_images_abbas10\n",
        "  vectorized_images_abbas10 = []\n",
        "  for _, file in enumerate(os.listdir(path_to_file_abbas_10)):\n",
        "    image = Image.open(path_to_file_abbas_10+file)\n",
        "    image_array = np.array(image)\n",
        "    vectorized_images_abbas10.append(image_array)\n",
        "\n",
        "def taskabbas11():\n",
        "  global vectorized_images_abbas11\n",
        "  vectorized_images_abbas11 = []\n",
        "  for _, file in enumerate(os.listdir(path_to_file_abbas_11)):\n",
        "    image = Image.open(path_to_file_abbas_11+file)\n",
        "    image_array = np.array(image)\n",
        "    vectorized_images_abbas11.append(image_array)\n",
        "\n",
        "def taskabbas12():\n",
        "  global vectorized_images_abbas12\n",
        "  vectorized_images_abbas12 = []\n",
        "  for _, file in enumerate(os.listdir(path_to_file_abbas_12)):\n",
        "    image = Image.open(path_to_file_abbas_12+file)\n",
        "    image_array = np.array(image)\n",
        "    vectorized_images_abbas12.append(image_array)"
      ],
      "execution_count": null,
      "outputs": []
    },
    {
      "cell_type": "markdown",
      "metadata": {
        "id": "bZymh59Uiwkp"
      },
      "source": [
        "# 12 threads for vectorizing each character written by Akashdeep\n",
        "\n"
      ]
    },
    {
      "cell_type": "code",
      "metadata": {
        "id": "TYKWzxmnisUf"
      },
      "source": [
        "def taskakash1():\n",
        "  global vectorized_images_akash1\n",
        "  vectorized_images_akash1 = []\n",
        "  for _, file in enumerate(os.listdir(path_to_file_akash_1)):\n",
        "    image = Image.open(path_to_file_akash_1+file)\n",
        "    image_array = np.array(image)\n",
        "    vectorized_images_akash1.append(image_array)\n",
        "\n",
        "def taskakash2():\n",
        "  global vectorized_images_akash2\n",
        "  vectorized_images_akash2 = []\n",
        "  for _, file in enumerate(os.listdir(path_to_file_akash_2)):\n",
        "    image = Image.open(path_to_file_akash_2+file)\n",
        "    image_array = np.array(image)\n",
        "    vectorized_images_akash2.append(image_array)\n",
        "\n",
        "def taskakash3():\n",
        "  global vectorized_images_akash3\n",
        "  vectorized_images_akash3 = []\n",
        "  for _, file in enumerate(os.listdir(path_to_file_akash_3)):\n",
        "    image = Image.open(path_to_file_akash_3+file)\n",
        "    image_array = np.array(image)\n",
        "    vectorized_images_akash3.append(image_array)\n",
        "\n",
        "def taskakash4():\n",
        "  global vectorized_images_akash4\n",
        "  vectorized_images_akash4 = []\n",
        "  for _, file in enumerate(os.listdir(path_to_file_akash_4)):\n",
        "    image = Image.open(path_to_file_akash_4+file)\n",
        "    image_array = np.array(image)\n",
        "    vectorized_images_akash4.append(image_array)\n",
        "\n",
        "def taskakash5():\n",
        "  global vectorized_images_akash5\n",
        "  vectorized_images_akash5 = []\n",
        "  for _, file in enumerate(os.listdir(path_to_file_akash_5)):\n",
        "    image = Image.open(path_to_file_akash_5+file)\n",
        "    image_array = np.array(image)\n",
        "    vectorized_images_akash5.append(image_array)\n",
        "\n",
        "def taskakash6():\n",
        "  global vectorized_images_akash6\n",
        "  vectorized_images_akash6 = []\n",
        "  for _, file in enumerate(os.listdir(path_to_file_akash_6)):\n",
        "    image = Image.open(path_to_file_akash_6+file)\n",
        "    image_array = np.array(image)\n",
        "    vectorized_images_akash6.append(image_array)\n",
        "\n",
        "def taskakash7():\n",
        "  global vectorized_images_akash7\n",
        "  vectorized_images_akash7 = []\n",
        "  for _, file in enumerate(os.listdir(path_to_file_akash_7)):\n",
        "    image = Image.open(path_to_file_akash_7+file)\n",
        "    image_array = np.array(image)\n",
        "    vectorized_images_akash7.append(image_array)\n",
        "\n",
        "def taskakash8():\n",
        "  global vectorized_images_akash8\n",
        "  vectorized_images_akash8 = []\n",
        "  for _, file in enumerate(os.listdir(path_to_file_akash_8)):\n",
        "    image = Image.open(path_to_file_akash_8+file)\n",
        "    image_array = np.array(image)\n",
        "    vectorized_images_akash8.append(image_array)\n",
        "\n",
        "def taskakash9():\n",
        "  global vectorized_images_akash9\n",
        "  vectorized_images_akash9 = []\n",
        "  for _, file in enumerate(os.listdir(path_to_file_akash_9)):\n",
        "    image = Image.open(path_to_file_akash_9+file)\n",
        "    image_array = np.array(image)\n",
        "    vectorized_images_akash9.append(image_array)\n",
        "\n",
        "def taskakash10():\n",
        "  global vectorized_images_akash10\n",
        "  vectorized_images_akash10 = []\n",
        "  for _, file in enumerate(os.listdir(path_to_file_akash_10)):\n",
        "    image = Image.open(path_to_file_akash_10+file)\n",
        "    image_array = np.array(image)\n",
        "    vectorized_images_akash10.append(image_array)\n",
        "\n",
        "def taskakash11():\n",
        "  global vectorized_images_akash11\n",
        "  vectorized_images_akash11 = []\n",
        "  for _, file in enumerate(os.listdir(path_to_file_akash_11)):\n",
        "    image = Image.open(path_to_file_akash_11+file)\n",
        "    image_array = np.array(image)\n",
        "    vectorized_images_akash11.append(image_array)\n",
        "\n",
        "def taskakash12():\n",
        "  global vectorized_images_akash12\n",
        "  vectorized_images_akash12 = []\n",
        "  for _, file in enumerate(os.listdir(path_to_file_akash_12)):\n",
        "    image = Image.open(path_to_file_akash_12+file)\n",
        "    image_array = np.array(image)\n",
        "    vectorized_images_akash12.append(image_array)"
      ],
      "execution_count": null,
      "outputs": []
    },
    {
      "cell_type": "markdown",
      "metadata": {
        "id": "ql-xoXQ2i5h8"
      },
      "source": [
        "# 12 threads for vectorizing each character written by Anoop"
      ]
    },
    {
      "cell_type": "code",
      "metadata": {
        "id": "ywSb-iUVi6e1"
      },
      "source": [
        "def taskanoop1():\n",
        "  global vectorized_images_anoop1\n",
        "  vectorized_images_anoop1 = []\n",
        "  for _, file in enumerate(os.listdir(path_to_file_anoop_1)):\n",
        "    image = Image.open(path_to_file_anoop_1+file)\n",
        "    image_array = np.array(image)\n",
        "    vectorized_images_anoop1.append(image_array)\n",
        "\n",
        "def taskanoop2():\n",
        "  global vectorized_images_anoop2\n",
        "  vectorized_images_anoop2 = []\n",
        "  for _, file in enumerate(os.listdir(path_to_file_anoop_2)):\n",
        "    image = Image.open(path_to_file_anoop_2+file)\n",
        "    image_array = np.array(image)\n",
        "    vectorized_images_anoop2.append(image_array)\n",
        "\n",
        "def taskanoop3():\n",
        "  global vectorized_images_anoop3\n",
        "  vectorized_images_anoop3 = []\n",
        "  for _, file in enumerate(os.listdir(path_to_file_anoop_3)):\n",
        "    image = Image.open(path_to_file_anoop_3+file)\n",
        "    image_array = np.array(image)\n",
        "    vectorized_images_anoop3.append(image_array)\n",
        "\n",
        "def taskanoop4():\n",
        "  global vectorized_images_anoop4\n",
        "  vectorized_images_anoop4 = []\n",
        "  for _, file in enumerate(os.listdir(path_to_file_anoop_4)):\n",
        "    image = Image.open(path_to_file_anoop_4+file)\n",
        "    image_array = np.array(image)\n",
        "    vectorized_images_anoop4.append(image_array)\n",
        "\n",
        "def taskanoop5():\n",
        "  global vectorized_images_anoop5\n",
        "  vectorized_images_anoop5 = []\n",
        "  for _, file in enumerate(os.listdir(path_to_file_anoop_5)):\n",
        "    image = Image.open(path_to_file_anoop_5+file)\n",
        "    image_array = np.array(image)\n",
        "    vectorized_images_anoop5.append(image_array)\n",
        "\n",
        "def taskanoop6():\n",
        "  global vectorized_images_anoop6\n",
        "  vectorized_images_anoop6 = []\n",
        "  for _, file in enumerate(os.listdir(path_to_file_anoop_6)):\n",
        "    image = Image.open(path_to_file_anoop_6+file)\n",
        "    image_array = np.array(image)\n",
        "    vectorized_images_anoop6.append(image_array)\n",
        "\n",
        "def taskanoop7():\n",
        "  global vectorized_images_anoop7\n",
        "  vectorized_images_anoop7 = []\n",
        "  for _, file in enumerate(os.listdir(path_to_file_anoop_7)):\n",
        "    image = Image.open(path_to_file_anoop_7+file)\n",
        "    image_array = np.array(image)\n",
        "    vectorized_images_anoop7.append(image_array)\n",
        "\n",
        "def taskanoop8():\n",
        "  global vectorized_images_anoop8\n",
        "  vectorized_images_anoop8 = []\n",
        "  for _, file in enumerate(os.listdir(path_to_file_anoop_8)):\n",
        "    image = Image.open(path_to_file_anoop_8+file)\n",
        "    image_array = np.array(image)\n",
        "    vectorized_images_anoop8.append(image_array)\n",
        "\n",
        "def taskanoop9():\n",
        "  global vectorized_images_anoop9\n",
        "  vectorized_images_anoop9 = []\n",
        "  for _, file in enumerate(os.listdir(path_to_file_anoop_9)):\n",
        "    image = Image.open(path_to_file_anoop_9+file)\n",
        "    image_array = np.array(image)\n",
        "    vectorized_images_anoop9.append(image_array)\n",
        "\n",
        "def taskanoop10():\n",
        "  global vectorized_images_anoop10\n",
        "  vectorized_images_anoop10 = []\n",
        "  for _, file in enumerate(os.listdir(path_to_file_anoop_10)):\n",
        "    image = Image.open(path_to_file_anoop_10+file)\n",
        "    image_array = np.array(image)\n",
        "    vectorized_images_anoop10.append(image_array)\n",
        "\n",
        "def taskanoop11():\n",
        "  global vectorized_images_anoop11\n",
        "  vectorized_images_anoop11 = []\n",
        "  for _, file in enumerate(os.listdir(path_to_file_anoop_11)):\n",
        "    image = Image.open(path_to_file_anoop_11+file)\n",
        "    image_array = np.array(image)\n",
        "    vectorized_images_anoop11.append(image_array)\n",
        "\n",
        "def taskanoop12():\n",
        "  global vectorized_images_anoop12\n",
        "  vectorized_images_anoop12 = []\n",
        "  for _, file in enumerate(os.listdir(path_to_file_anoop_12)):\n",
        "    image = Image.open(path_to_file_anoop_12+file)\n",
        "    image_array = np.array(image)\n",
        "    vectorized_images_anoop12.append(image_array)"
      ],
      "execution_count": null,
      "outputs": []
    },
    {
      "cell_type": "markdown",
      "metadata": {
        "id": "y0tMQaThhrDy"
      },
      "source": [
        "# Create threads"
      ]
    },
    {
      "cell_type": "code",
      "metadata": {
        "id": "SJ1Kg7WwhsRn"
      },
      "source": [
        "#Manoj's threads\n",
        "t1 = threading.Thread(target = task1)\n",
        "t2 = threading.Thread(target = task2)\n",
        "t3 = threading.Thread(target = task3)\n",
        "t4 = threading.Thread(target = task4)\n",
        "t5 = threading.Thread(target = task5)\n",
        "t6 = threading.Thread(target = task6)\n",
        "t7 = threading.Thread(target = task7)\n",
        "t8 = threading.Thread(target = task8)\n",
        "t9 = threading.Thread(target = task9)\n",
        "t10 = threading.Thread(target = task10)\n",
        "t11 = threading.Thread(target = task11)\n",
        "t12 = threading.Thread(target = task12)\n",
        "\n",
        "#Abbas's threads\n",
        "tabb1 = threading.Thread(target = taskabbas1)\n",
        "tabb2 = threading.Thread(target = taskabbas2)\n",
        "tabb3 = threading.Thread(target = taskabbas3)\n",
        "tabb4 = threading.Thread(target = taskabbas4)\n",
        "tabb5 = threading.Thread(target = taskabbas5)\n",
        "tabb6 = threading.Thread(target = taskabbas6)\n",
        "tabb7 = threading.Thread(target = taskabbas7)\n",
        "tabb8 = threading.Thread(target = taskabbas8)\n",
        "tabb9 = threading.Thread(target = taskabbas9)\n",
        "tabb10 = threading.Thread(target = taskabbas10)\n",
        "tabb11 = threading.Thread(target = taskabbas11)\n",
        "tabb12 = threading.Thread(target = taskabbas12)\n",
        "\n",
        "#Akashdeep's threads\n",
        "taka1 = threading.Thread(target = taskakash1)\n",
        "taka2 = threading.Thread(target = taskakash2)\n",
        "taka3 = threading.Thread(target = taskakash3)\n",
        "taka4 = threading.Thread(target = taskakash4)\n",
        "taka5 = threading.Thread(target = taskakash5)\n",
        "taka6 = threading.Thread(target = taskakash6)\n",
        "taka7 = threading.Thread(target = taskakash7)\n",
        "taka8 = threading.Thread(target = taskakash8)\n",
        "taka9 = threading.Thread(target = taskakash9)\n",
        "taka10 = threading.Thread(target = taskakash10)\n",
        "taka11 = threading.Thread(target = taskakash11)\n",
        "taka12 = threading.Thread(target = taskakash12)\n",
        "\n",
        "#Anoop's threads\n",
        "tanoo1 = threading.Thread(target = taskanoop1)\n",
        "tanoo2 = threading.Thread(target = taskanoop2)\n",
        "tanoo3 = threading.Thread(target = taskanoop3)\n",
        "tanoo4 = threading.Thread(target = taskanoop4)\n",
        "tanoo5 = threading.Thread(target = taskanoop5)\n",
        "tanoo6 = threading.Thread(target = taskanoop6)\n",
        "tanoo7 = threading.Thread(target = taskanoop7)\n",
        "tanoo8 = threading.Thread(target = taskanoop8)\n",
        "tanoo9 = threading.Thread(target = taskanoop9)\n",
        "tanoo10 = threading.Thread(target = taskanoop10)\n",
        "tanoo11 = threading.Thread(target = taskanoop11)\n",
        "tanoo12 = threading.Thread(target = taskanoop12)"
      ],
      "execution_count": null,
      "outputs": []
    },
    {
      "cell_type": "markdown",
      "metadata": {
        "id": "Fv_bO0n8jSqV"
      },
      "source": [
        "# Starting all 48 threads"
      ]
    },
    {
      "cell_type": "code",
      "metadata": {
        "id": "rbI6GsetjW32"
      },
      "source": [
        "#Manoj's threads\n",
        "t1.start()\n",
        "t2.start()\n",
        "t3.start()\n",
        "t4.start()\n",
        "t5.start()\n",
        "t6.start()\n",
        "t7.start()\n",
        "t8.start()\n",
        "t9.start()\n",
        "t10.start()\n",
        "t11.start()\n",
        "t12.start()\n",
        "\n",
        "#Abbas's threads\n",
        "tabb1.start()\n",
        "tabb2.start()\n",
        "tabb3.start()\n",
        "tabb4.start()\n",
        "tabb5.start()\n",
        "tabb6.start()\n",
        "tabb7.start()\n",
        "tabb8.start()\n",
        "tabb9.start()\n",
        "tabb10.start()\n",
        "tabb11.start()\n",
        "tabb12.start()\n",
        "\n",
        "#Akashdeep's threads\n",
        "taka1.start()\n",
        "taka2.start()\n",
        "taka3.start()\n",
        "taka4.start()\n",
        "taka5.start()\n",
        "taka6.start()\n",
        "taka7.start()\n",
        "taka8.start()\n",
        "taka9.start()\n",
        "taka10.start()\n",
        "taka11.start()\n",
        "taka12.start()\n",
        "\n",
        "#Anoop's threads\n",
        "tanoo1.start()\n",
        "tanoo2.start()\n",
        "tanoo3.start()\n",
        "tanoo4.start()\n",
        "tanoo5.start()\n",
        "tanoo6.start()\n",
        "tanoo7.start()\n",
        "tanoo8.start()\n",
        "tanoo9.start()\n",
        "tanoo10.start()\n",
        "tanoo11.start()\n",
        "tanoo12.start()"
      ],
      "execution_count": null,
      "outputs": []
    },
    {
      "cell_type": "markdown",
      "metadata": {
        "id": "Drd0huaxkYQN"
      },
      "source": [
        "# Wait for all the threads to complete"
      ]
    },
    {
      "cell_type": "code",
      "metadata": {
        "id": "g6oV4QsKjZSy"
      },
      "source": [
        "t1.join()\n",
        "t2.join()\n",
        "t3.join()\n",
        "t4.join()\n",
        "t5.join()\n",
        "t6.join()\n",
        "t7.join()\n",
        "t8.join()\n",
        "t9.join()\n",
        "t10.join()\n",
        "t11.join()\n",
        "t12.join()\n",
        "\n",
        "tabb1.join()\n",
        "tabb2.join()\n",
        "tabb3.join()\n",
        "tabb4.join()\n",
        "tabb5.join()\n",
        "tabb6.join()\n",
        "tabb7.join()\n",
        "tabb8.join()\n",
        "tabb9.join()\n",
        "tabb10.join()\n",
        "tabb11.join()\n",
        "tabb12.join()\n",
        "\n",
        "taka1.join()\n",
        "taka2.join()\n",
        "taka3.join()\n",
        "taka4.join()\n",
        "taka5.join()\n",
        "taka6.join()\n",
        "taka7.join()\n",
        "taka8.join()\n",
        "taka9.join()\n",
        "taka10.join()\n",
        "taka11.join()\n",
        "taka12.join()\n",
        "\n",
        "tanoo1.join()\n",
        "tanoo2.join()\n",
        "tanoo3.join()\n",
        "tanoo4.join()\n",
        "tanoo5.join()\n",
        "tanoo6.join()\n",
        "tanoo7.join()\n",
        "tanoo8.join()\n",
        "tanoo9.join()\n",
        "tanoo10.join()\n",
        "tanoo11.join()\n",
        "tanoo12.join()"
      ],
      "execution_count": null,
      "outputs": []
    },
    {
      "cell_type": "markdown",
      "metadata": {
        "id": "esH4Hvzok08e"
      },
      "source": [
        "# Creating training set (x_train)"
      ]
    },
    {
      "cell_type": "code",
      "metadata": {
        "colab": {
          "base_uri": "https://localhost:8080/"
        },
        "id": "ej5W5bwek3xx",
        "outputId": "8b8d7618-99c2-47c7-aac5-491d2bf067aa"
      },
      "source": [
        "vector_1 = vectorized_images_abbas1[:1633]\n",
        "vector_2 = vectorized_images_abbas2[:1633]\n",
        "vector_3 = vectorized_images_abbas3[:1633]\n",
        "vector_4 = vectorized_images_abbas4[:1633]\n",
        "vector_5 = vectorized_images_abbas5[:1633]\n",
        "vector_6 = vectorized_images_abbas6[:1633]\n",
        "vector_7 = vectorized_images_abbas7[:1633]\n",
        "vector_8 = vectorized_images_abbas8[:1633]\n",
        "vector_9 = vectorized_images_abbas9[:1633]\n",
        "vector_10 = vectorized_images_abbas10[:1633]\n",
        "vector_11 = vectorized_images_abbas11[:1633]\n",
        "vector_12 = vectorized_images_abbas12[:1633]\n",
        "\n",
        "for i in range(1641):\n",
        "  vector_1.append(vectorized_images_akash1[i])\n",
        "  vector_2.append(vectorized_images_akash2[i])\n",
        "  vector_3.append(vectorized_images_akash3[i])\n",
        "  vector_4.append(vectorized_images_akash4[i])\n",
        "  vector_5.append(vectorized_images_akash5[i])\n",
        "  vector_6.append(vectorized_images_akash6[i])\n",
        "  vector_7.append(vectorized_images_akash7[i])\n",
        "  vector_8.append(vectorized_images_akash8[i])\n",
        "  vector_9.append(vectorized_images_akash9[i])\n",
        "  vector_10.append(vectorized_images_akash10[i])\n",
        "  vector_11.append(vectorized_images_akash11[i])\n",
        "  vector_12.append(vectorized_images_akash12[i])\n",
        "\n",
        "for i in range(1673):\n",
        "  vector_1.append(vectorized_images_anoop1[i])\n",
        "  vector_2.append(vectorized_images_anoop2[i])\n",
        "  vector_3.append(vectorized_images_anoop3[i])\n",
        "  vector_4.append(vectorized_images_anoop4[i])\n",
        "  vector_5.append(vectorized_images_anoop5[i])\n",
        "  vector_6.append(vectorized_images_anoop6[i])\n",
        "  vector_7.append(vectorized_images_anoop7[i])\n",
        "  vector_8.append(vectorized_images_anoop8[i])\n",
        "  vector_9.append(vectorized_images_anoop9[i])\n",
        "  vector_10.append(vectorized_images_anoop10[i])\n",
        "  vector_11.append(vectorized_images_anoop11[i])\n",
        "  vector_12.append(vectorized_images_anoop12[i])\n",
        "\n",
        "for i in range(1338):\n",
        "  vector_1.append(vectorized_images_manoj1[i])\n",
        "  vector_2.append(vectorized_images_manoj2[i])\n",
        "  vector_3.append(vectorized_images_manoj3[i])\n",
        "  vector_4.append(vectorized_images_manoj4[i])\n",
        "  vector_5.append(vectorized_images_manoj5[i])\n",
        "  vector_6.append(vectorized_images_manoj6[i])\n",
        "  vector_7.append(vectorized_images_manoj7[i])\n",
        "  vector_8.append(vectorized_images_manoj8[i])\n",
        "  vector_9.append(vectorized_images_manoj9[i])\n",
        "  vector_10.append(vectorized_images_manoj10[i])\n",
        "  vector_11.append(vectorized_images_manoj11[i])\n",
        "  vector_12.append(vectorized_images_manoj12[i])\n",
        "\n",
        "print(len(vector_1))\n",
        "print(len(vector_2))\n",
        "print(len(vector_3))\n",
        "print(len(vector_4))\n",
        "print(len(vector_5))\n",
        "print(len(vector_6))\n",
        "print(len(vector_7))\n",
        "print(len(vector_8))\n",
        "print(len(vector_9))\n",
        "print(len(vector_10))\n",
        "print(len(vector_11))\n",
        "print(len(vector_12))"
      ],
      "execution_count": null,
      "outputs": [
        {
          "output_type": "stream",
          "text": [
            "6285\n",
            "6285\n",
            "6285\n",
            "6285\n",
            "6285\n",
            "6285\n",
            "6285\n",
            "6285\n",
            "6285\n",
            "6285\n",
            "6285\n",
            "6285\n"
          ],
          "name": "stdout"
        }
      ]
    },
    {
      "cell_type": "markdown",
      "metadata": {
        "id": "STi-MHu7lPRE"
      },
      "source": [
        "# Creating y_train"
      ]
    },
    {
      "cell_type": "code",
      "metadata": {
        "id": "T5vwaow6lOrW"
      },
      "source": [
        "label1 = []\n",
        "label2 = []\n",
        "label3 = []\n",
        "label4 = []\n",
        "label5 = []\n",
        "label6 = []\n",
        "label7 = []\n",
        "label8 = []\n",
        "label9 = []\n",
        "label10 = []\n",
        "label11 = []\n",
        "label12 = []\n",
        "for i in range(6285):\n",
        "  label1.append(0) #a\n",
        "  label2.append(1) #aa\n",
        "  label3.append(2) #e\n",
        "  label4.append(3) #ee\n",
        "  label5.append(4) #oo\n",
        "  label6.append(5)\n",
        "  label7.append(6)\n",
        "  label8.append(7)\n",
        "  label9.append(8)\n",
        "  label10.append(9)\n",
        "  label11.append(10)\n",
        "  label12.append(11) #ma"
      ],
      "execution_count": null,
      "outputs": []
    },
    {
      "cell_type": "markdown",
      "metadata": {
        "id": "aqeQY4galkCt"
      },
      "source": [
        "# creating final x_train and y_train having all the characters"
      ]
    },
    {
      "cell_type": "code",
      "metadata": {
        "id": "ZzlsHfaRlojY"
      },
      "source": [
        "final_vector_train_x = [] #images\n",
        "final_vector_train_y = [] #label\n",
        "\n",
        "for i in range(6285):\n",
        "  final_vector_train_x.append(vector_1[i]) # storing all images\n",
        "  final_vector_train_y.append(label1[i]) # storing all labels\n",
        "\n",
        "for i in range(6285):\n",
        "  final_vector_train_x.append(vector_2[i])\n",
        "  final_vector_train_y.append(label2[i])\n",
        "\n",
        "for i in range(6285):\n",
        "  final_vector_train_x.append(vector_3[i])\n",
        "  final_vector_train_y.append(label3[i])\n",
        "\n",
        "for i in range(6285):\n",
        "  final_vector_train_x.append(vector_4[i])\n",
        "  final_vector_train_y.append(label4[i])\n",
        "\n",
        "for i in range(6285):\n",
        "  final_vector_train_x.append(vector_5[i])\n",
        "  final_vector_train_y.append(label5[i])\n",
        "\n",
        "for i in range(6285):\n",
        "  final_vector_train_x.append(vector_6[i])\n",
        "  final_vector_train_y.append(label6[i])\n",
        "\n",
        "for i in range(6285):\n",
        "  final_vector_train_x.append(vector_7[i])\n",
        "  final_vector_train_y.append(label7[i])\n",
        "\n",
        "for i in range(6285):\n",
        "  final_vector_train_x.append(vector_8[i])\n",
        "  final_vector_train_y.append(label8[i])\n",
        "\n",
        "for i in range(6285):\n",
        "  final_vector_train_x.append(vector_9[i])\n",
        "  final_vector_train_y.append(label9[i])\n",
        "\n",
        "for i in range(6285):\n",
        "  final_vector_train_x.append(vector_10[i])\n",
        "  final_vector_train_y.append(label10[i])\n",
        "\n",
        "for i in range(6285):\n",
        "  final_vector_train_x.append(vector_11[i])\n",
        "  final_vector_train_y.append(label11[i])\n",
        "\n",
        "for i in range(6285):\n",
        "  final_vector_train_x.append(vector_12[i])\n",
        "  final_vector_train_y.append(label12[i])"
      ],
      "execution_count": null,
      "outputs": []
    },
    {
      "cell_type": "markdown",
      "metadata": {
        "id": "LaKCjeo8lstk"
      },
      "source": [
        "# Length of the training set"
      ]
    },
    {
      "cell_type": "code",
      "metadata": {
        "colab": {
          "base_uri": "https://localhost:8080/"
        },
        "id": "xgtDB1DJlr9n",
        "outputId": "76db21fb-1ca5-4edc-b63a-d8e54ea9a1c5"
      },
      "source": [
        "print(len(final_vector_train_x))\n",
        "print(len(final_vector_train_y))"
      ],
      "execution_count": null,
      "outputs": [
        {
          "output_type": "stream",
          "text": [
            "75420\n",
            "75420\n"
          ],
          "name": "stdout"
        }
      ]
    },
    {
      "cell_type": "markdown",
      "metadata": {
        "id": "Aqm4rdVKl7eT"
      },
      "source": [
        "# creating testing set"
      ]
    },
    {
      "cell_type": "code",
      "metadata": {
        "id": "B3YRPIPxl9FC"
      },
      "source": [
        "vector_test_1 = vectorized_images_abbas1[1633:len(vectorized_images_abbas1)]\n",
        "vector_test_2 = vectorized_images_abbas2[1633:len(vectorized_images_abbas2)]\n",
        "vector_test_3 = vectorized_images_abbas3[1633:len(vectorized_images_abbas3)]\n",
        "vector_test_4 = vectorized_images_abbas4[1633:len(vectorized_images_abbas4)]\n",
        "vector_test_5 = vectorized_images_abbas5[1633:len(vectorized_images_abbas5)]\n",
        "vector_test_6 = vectorized_images_abbas6[1633:len(vectorized_images_abbas6)]\n",
        "vector_test_7 = vectorized_images_abbas7[1633:len(vectorized_images_abbas7)]\n",
        "vector_test_8 = vectorized_images_abbas8[1633:len(vectorized_images_abbas8)]\n",
        "vector_test_9 = vectorized_images_abbas9[1633:len(vectorized_images_abbas9)]\n",
        "vector_test_10 = vectorized_images_abbas10[1633:len(vectorized_images_abbas10)]\n",
        "vector_test_11 = vectorized_images_abbas11[1633:len(vectorized_images_abbas11)]\n",
        "vector_test_12 = vectorized_images_abbas12[1633:len(vectorized_images_abbas12)]\n",
        "\n",
        "#Akashdeep's images for testing set\n",
        "for i in range(1641,len(vectorized_images_akash1)):\n",
        "  vector_test_1.append(vectorized_images_akash1[i])\n",
        "\n",
        "for i in range(1641,len(vectorized_images_akash2)):\n",
        "  vector_test_2.append(vectorized_images_akash2[i])\n",
        "\n",
        "for i in range(1641,len(vectorized_images_akash3)):\n",
        "  vector_test_3.append(vectorized_images_akash3[i])\n",
        "\n",
        "for i in range(1641,len(vectorized_images_akash4)):\n",
        "  vector_test_4.append(vectorized_images_akash4[i])\n",
        "\n",
        "for i in range(1641,len(vectorized_images_akash5)):\n",
        "  vector_test_5.append(vectorized_images_akash5[i])\n",
        "\n",
        "for i in range(1641,len(vectorized_images_akash6)):\n",
        "  vector_test_6.append(vectorized_images_akash6[i])\n",
        "\n",
        "for i in range(1641,len(vectorized_images_akash7)):\n",
        "  vector_test_7.append(vectorized_images_akash7[i])\n",
        "\n",
        "for i in range(1641,len(vectorized_images_akash8)):\n",
        "  vector_test_8.append(vectorized_images_akash8[i])\n",
        "\n",
        "for i in range(1641,len(vectorized_images_akash9)):\n",
        "  vector_test_9.append(vectorized_images_akash9[i])\n",
        "\n",
        "for i in range(1641,len(vectorized_images_akash10)):\n",
        "  vector_test_10.append(vectorized_images_akash10[i])\n",
        "\n",
        "for i in range(1641,len(vectorized_images_akash11)):\n",
        "  vector_test_11.append(vectorized_images_akash11[i])\n",
        "\n",
        "for i in range(1641,len(vectorized_images_akash12)):\n",
        "  vector_test_12.append(vectorized_images_akash12[i])\n",
        "\n",
        "#Anoop's images for testing set\n",
        "\n",
        "for i in range(1673,len(vectorized_images_anoop1)):\n",
        "  vector_test_1.append(vectorized_images_anoop1[i])\n",
        "\n",
        "for i in range(1673,len(vectorized_images_anoop2)):\n",
        "  vector_test_2.append(vectorized_images_anoop2[i])\n",
        "\n",
        "for i in range(1673,len(vectorized_images_anoop3)):\n",
        "  vector_test_3.append(vectorized_images_anoop3[i])\n",
        "\n",
        "for i in range(1673,len(vectorized_images_anoop4)):\n",
        "  vector_test_4.append(vectorized_images_anoop4[i])\n",
        "\n",
        "for i in range(1673,len(vectorized_images_anoop5)):\n",
        "  vector_test_5.append(vectorized_images_anoop5[i])\n",
        "\n",
        "for i in range(1673,len(vectorized_images_anoop6)):\n",
        "  vector_test_6.append(vectorized_images_anoop6[i])\n",
        "\n",
        "for i in range(1673,len(vectorized_images_anoop7)):\n",
        "  vector_test_7.append(vectorized_images_anoop7[i])\n",
        "\n",
        "for i in range(1673,len(vectorized_images_anoop8)):\n",
        "  vector_test_8.append(vectorized_images_anoop8[i])\n",
        "\n",
        "for i in range(1673,len(vectorized_images_anoop9)):\n",
        "  vector_test_9.append(vectorized_images_anoop9[i])\n",
        "\n",
        "for i in range(1673,len(vectorized_images_anoop10)):\n",
        "  vector_test_10.append(vectorized_images_anoop10[i])\n",
        "\n",
        "for i in range(1673,len(vectorized_images_anoop11)):\n",
        "  vector_test_11.append(vectorized_images_anoop11[i])\n",
        "\n",
        "for i in range(1673,len(vectorized_images_anoop12)):\n",
        "  vector_test_12.append(vectorized_images_anoop12[i])\n",
        "\n",
        "#Manoj's images for testing set\n",
        "\n",
        "for i in range(1338,len(vectorized_images_manoj1)):\n",
        "  vector_test_1.append(vectorized_images_manoj1[i])\n",
        "\n",
        "for i in range(1338,len(vectorized_images_manoj2)):\n",
        "  vector_test_2.append(vectorized_images_manoj2[i])\n",
        "\n",
        "for i in range(1338,len(vectorized_images_manoj3)):\n",
        "  vector_test_3.append(vectorized_images_manoj3[i])\n",
        "\n",
        "for i in range(1338,len(vectorized_images_manoj4)):\n",
        "  vector_test_4.append(vectorized_images_manoj4[i])\n",
        "\n",
        "for i in range(1338,len(vectorized_images_manoj5)):\n",
        "  vector_test_5.append(vectorized_images_manoj5[i])\n",
        "\n",
        "for i in range(1338,len(vectorized_images_manoj6)):\n",
        "  vector_test_6.append(vectorized_images_manoj6[i])\n",
        "\n",
        "for i in range(1338,len(vectorized_images_manoj7)):\n",
        "  vector_test_7.append(vectorized_images_manoj7[i])\n",
        "\n",
        "for i in range(1338,len(vectorized_images_manoj8)):\n",
        "  vector_test_8.append(vectorized_images_manoj8[i])\n",
        "\n",
        "for i in range(1338,len(vectorized_images_manoj9)):\n",
        "  vector_test_9.append(vectorized_images_manoj9[i])\n",
        "\n",
        "for i in range(1338,len(vectorized_images_manoj10)):\n",
        "  vector_test_10.append(vectorized_images_manoj10[i])\n",
        "\n",
        "for i in range(1338,len(vectorized_images_manoj11)):\n",
        "  vector_test_11.append(vectorized_images_manoj11[i])\n",
        "\n",
        "for i in range(1338,len(vectorized_images_manoj12)):\n",
        "  vector_test_12.append(vectorized_images_manoj12[i])"
      ],
      "execution_count": null,
      "outputs": []
    },
    {
      "cell_type": "code",
      "metadata": {
        "id": "CVYO2cV3o4BL"
      },
      "source": [
        "final_vector_text_x = []\n",
        "final_vector_text_y = []\n",
        "\n",
        "for i in range(len(vector_test_1)):\n",
        "  final_vector_text_x.append(vector_test_1[i])\n",
        "  final_vector_text_y.append(label1[i])\n",
        "\n",
        "for i in range(len(vector_test_2)):\n",
        "  final_vector_text_x.append(vector_test_2[i])\n",
        "  final_vector_text_y.append(label2[i])\n",
        "\n",
        "for i in range(len(vector_test_3)):\n",
        "  final_vector_text_x.append(vector_test_3[i])\n",
        "  final_vector_text_y.append(label3[i])\n",
        "\n",
        "for i in range(len(vector_test_4)):\n",
        "  final_vector_text_x.append(vector_test_4[i])\n",
        "  final_vector_text_y.append(label4[i])\n",
        "\n",
        "for i in range(len(vector_test_5)):\n",
        "  final_vector_text_x.append(vector_test_5[i])\n",
        "  final_vector_text_y.append(label5[i])\n",
        "\n",
        "for i in range(len(vector_test_6)):\n",
        "  final_vector_text_x.append(vector_test_6[i])\n",
        "  final_vector_text_y.append(label6[i])\n",
        "\n",
        "for i in range(len(vector_test_7)):\n",
        "  final_vector_text_x.append(vector_test_7[i])\n",
        "  final_vector_text_y.append(label7[i])\n",
        "\n",
        "for i in range(len(vector_test_8)):\n",
        "  final_vector_text_x.append(vector_test_8[i])\n",
        "  final_vector_text_y.append(label8[i])\n",
        "\n",
        "for i in range(len(vector_test_9)):\n",
        "  final_vector_text_x.append(vector_test_9[i])\n",
        "  final_vector_text_y.append(label9[i])\n",
        "\n",
        "for i in range(len(vector_test_10)):\n",
        "  final_vector_text_x.append(vector_test_10[i])\n",
        "  final_vector_text_y.append(label10[i])\n",
        "\n",
        "for i in range(len(vector_test_11)):\n",
        "  final_vector_text_x.append(vector_test_11[i])\n",
        "  final_vector_text_y.append(label11[i])\n",
        "\n",
        "for i in range(len(vector_test_12)):\n",
        "  final_vector_text_x.append(vector_test_12[i])\n",
        "  final_vector_text_y.append(label12[i])"
      ],
      "execution_count": null,
      "outputs": []
    },
    {
      "cell_type": "markdown",
      "metadata": {
        "id": "GbGCt0frpGjW"
      },
      "source": [
        "# Length of the final vector"
      ]
    },
    {
      "cell_type": "code",
      "metadata": {
        "colab": {
          "base_uri": "https://localhost:8080/"
        },
        "id": "x1bxQPhmpIWr",
        "outputId": "a2220f33-7861-400b-ca32-f60331532b28"
      },
      "source": [
        "print(len(final_vector_text_x))\n",
        "print(len(final_vector_text_y))"
      ],
      "execution_count": null,
      "outputs": [
        {
          "output_type": "stream",
          "text": [
            "22497\n",
            "22497\n"
          ],
          "name": "stdout"
        }
      ]
    },
    {
      "cell_type": "code",
      "metadata": {
        "id": "nHlOe3YbsMmj"
      },
      "source": [
        "path=\"/content/drive/MyDrive/Kannada Mnist/Dataset/full_and_final/Akashdeep.npz\""
      ],
      "execution_count": null,
      "outputs": []
    },
    {
      "cell_type": "code",
      "metadata": {
        "id": "5U5bsI6qxrIN"
      },
      "source": [
        "np.savez(path,x_train=final_vector_train_x,y_train=final_vector_train_y,x_test=final_vector_text_x,y_test=final_vector_text_y)"
      ],
      "execution_count": null,
      "outputs": []
    },
    {
      "cell_type": "code",
      "metadata": {
        "id": "5eK1dJj3xxwf"
      },
      "source": [],
      "execution_count": null,
      "outputs": []
    }
  ]
}