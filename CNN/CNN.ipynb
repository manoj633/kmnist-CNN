{
  "nbformat": 4,
  "nbformat_minor": 0,
  "metadata": {
    "colab": {
      "provenance": []
    },
    "kernelspec": {
      "display_name": "Python 3",
      "name": "python3"
    },
    "language_info": {
      "name": "python"
    }
  },
  "cells": [
    {
      "cell_type": "code",
      "metadata": {
        "colab": {
          "background_save": true,
          "base_uri": "https://localhost:8080/"
        },
        "id": "qJQyJ8Re825Q",
        "outputId": "908eca43-7fac-47b3-bb98-8fa886d2b3e3"
      },
      "source": [
        "#Importing required libraries\n",
        "import numpy as np\n",
        "import tensorflow as tf\n",
        "import matplotlib.pyplot as plt\n",
        "import random\n",
        "import pandas as pd\n",
        "from tensorflow import keras\n",
        "import pydot\n",
        "\n",
        "#Loading the dataset\n",
        "def load_and_prep_dataset():\n",
        "  #load dataset\n",
        "  path=\"/content/drive/MyDrive/Kannada Mnist/Dataset/full_and_final/Akashdeep.npz\"\n",
        "  with np.load(path) as data:\n",
        "    train_X = data['x_train']\n",
        "    train_Y = data['y_train']\n",
        "    test_X = data['x_test']\n",
        "    test_Y = data['y_test']\n",
        "  (x_train, y_train),(x_test,y_test)=(train_X,train_Y),(test_X,test_Y)\n",
        "\n",
        "  #converting from array to list\n",
        "  y_train = y_train.tolist()\n",
        "  x_train = x_train.tolist()\n",
        "\n",
        "  #shuffling dataset\n",
        "  for _ in range(random.randint(5,20)):\n",
        "    temp = list(zip(x_train, y_train))\n",
        "    random.shuffle(temp)\n",
        "    x_train, y_train = zip(*temp)\n",
        " \n",
        " # list to array\n",
        "  x_train = np.array(x_train)\n",
        "  y_train = np.array(y_train)\n",
        "\n",
        "  #for testing dataset\n",
        "  y_test = y_test.tolist()\n",
        "  x_test = x_test.tolist()  \n",
        " \n",
        "  for _ in range(random.randint(5,20)):\n",
        "    temp = list(zip(x_test, y_test))\n",
        "    random.shuffle(temp)\n",
        "    x_test, y_test = zip(*temp)\n",
        " \n",
        "  y_test = np.array(y_test)\n",
        "  x_test = np.array(x_test)\n",
        "\n",
        "  #Normailizing the dataset\n",
        "  #pixels will have 0 to 255 values\n",
        "  #make it fall in the range [0,1]\n",
        "  x_train = tf.keras.utils.normalize(x_train,axis =1)\n",
        "  x_test = tf.keras.utils.normalize(x_test,axis =1)\n",
        "  \n",
        "  #Reshaping the dataset to have a single channel\n",
        "  x_train = x_train.reshape((75420,28,28,1))\n",
        "  x_test = x_test.reshape((22497,28,28,1))\n",
        "\n",
        "  return x_train, y_train, x_test, y_test\n",
        "\n",
        "def define_model():\n",
        "  #Sequential model creation\n",
        "  model = tf.keras.models.Sequential()\n",
        "\n",
        "  #Feature selection\n",
        "  model.add(tf.keras.layers.Conv2D(filters=32, kernel_size = (3,3), strides=1, padding='same', activation=\"relu\", input_shape=(28,28,1)))\n",
        "  model.add(tf.keras.layers.MaxPooling2D((2,2),strides=2))\n",
        "  model.add(tf.keras.layers.Conv2D(filters=64, kernel_size = (3,3), strides=1, padding='same', activation=\"relu\", input_shape=(14,14,32)))\n",
        "  model.add(tf.keras.layers.MaxPooling2D((2,2),strides=2))\n",
        "\n",
        "  #Deep networks\n",
        "  model.add(tf.keras.layers.Flatten())\n",
        "  model.add(tf.keras.layers.Dense(units=128,activation=tf.nn.relu))\n",
        "  model.add(tf.keras.layers.Dense(units=12,activation=tf.nn.softmax))\n",
        "\n",
        "  #compile model\n",
        "  model.compile(optimizer = \"adam\", loss='sparse_categorical_crossentropy',metrics = ['accuracy'])\n",
        "  model.summary()\n",
        "  return model\n",
        "\n",
        "def build_and_evaluate(x_train, y_train, x_test, y_test):\n",
        "  scores,histories = list(), list()\n",
        "\n",
        "  model = define_model()\n",
        "\n",
        "\n",
        "  #fit model (runs the compiled model)\n",
        "  history = model.fit(x_train, y_train, epochs = 5,batch_size=64,validation_split =0.3)\n",
        "\n",
        "  #evaluate model\n",
        "  loss,acc = model.evaluate(x_test,y_test)\n",
        "  print('> %3f' %(acc*100.0))\n",
        "  model.save('/content/drive/MyDrive/Kannada Mnist/Codes/Others/model.pb')\n",
        "\n",
        "    #stores score\n",
        "  scores.append(acc)\n",
        "  histories.append(history)\n",
        "\n",
        "  return scores, histories\n",
        "\n",
        "def summarize_diagnostics(histories):\n",
        "  for i in range(len(histories)):\n",
        "    #plot loss\n",
        "    plt.subplot(3,1,1)\n",
        "    plt.title('Cross Entropy loss')\n",
        "    plt.plot(histories[i].history['loss'], color='blue', label='train')\n",
        "    plt.plot(histories[i].history['val_loss'], color='orange', label='test')\n",
        "\n",
        "    #plot accuracy\n",
        "    plt.subplot(3,1,3)\n",
        "    plt.title('Classification accuracy')\n",
        "    plt.plot(histories[i].history['accuracy'], color='blue', label='train')\n",
        "    plt.plot(histories[i].history['val_accuracy'], color='orange', label='test')\n",
        "  plt.show()\n",
        "\n",
        "def summarize_performances(scores):\n",
        "  print('Accuracy: mean=%.3f std=%.3f, n=%d' %(np.mean(scores)*100, np.std(scores)*100, len(scores)))\n",
        "  plt.boxplot(scores)\n",
        "  plt.show()\n",
        "\n",
        "def run():\n",
        "  #load and prepare dataset\n",
        "  x_train, y_train, x_test, y_test = load_and_prep_dataset();\n",
        "\n",
        "  #Build and evealuate the model\n",
        "  scores, histories = build_and_evaluate(x_train, y_train, x_test, y_test)\n",
        "\n",
        "  #Learning curves\n",
        "  summarize_diagnostics(histories)\n",
        "\n",
        "  #summarize estimated performances\n",
        "  summarize_performances(scores)\n",
        "  \n",
        "\n",
        "run()\n"
      ],
      "execution_count": null,
      "outputs": [
        {
          "output_type": "stream",
          "text": [
            "Model: \"sequential\"\n",
            "_________________________________________________________________\n",
            "Layer (type)                 Output Shape              Param #   \n",
            "=================================================================\n",
            "conv2d (Conv2D)              (None, 28, 28, 32)        320       \n",
            "_________________________________________________________________\n",
            "max_pooling2d (MaxPooling2D) (None, 14, 14, 32)        0         \n",
            "_________________________________________________________________\n",
            "conv2d_1 (Conv2D)            (None, 14, 14, 64)        18496     \n",
            "_________________________________________________________________\n",
            "max_pooling2d_1 (MaxPooling2 (None, 7, 7, 64)          0         \n",
            "_________________________________________________________________\n",
            "flatten (Flatten)            (None, 3136)              0         \n",
            "_________________________________________________________________\n",
            "dense (Dense)                (None, 128)               401536    \n",
            "_________________________________________________________________\n",
            "dense_1 (Dense)              (None, 12)                1548      \n",
            "=================================================================\n",
            "Total params: 421,900\n",
            "Trainable params: 421,900\n",
            "Non-trainable params: 0\n",
            "_________________________________________________________________\n",
            "Epoch 1/5\n",
            "825/825 [==============================] - 67s 80ms/step - loss: 0.1212 - accuracy: 0.9678 - val_loss: 0.0150 - val_accuracy: 0.9960\n",
            "Epoch 2/5\n",
            "825/825 [==============================] - 67s 81ms/step - loss: 0.0120 - accuracy: 0.9969 - val_loss: 0.0074 - val_accuracy: 0.9980\n",
            "Epoch 3/5\n",
            "825/825 [==============================] - 66s 80ms/step - loss: 0.0054 - accuracy: 0.9989 - val_loss: 0.0047 - val_accuracy: 0.9988\n",
            "Epoch 4/5\n",
            "825/825 [==============================] - 65s 79ms/step - loss: 0.0045 - accuracy: 0.9988 - val_loss: 0.0048 - val_accuracy: 0.9982\n",
            "Epoch 5/5\n",
            "825/825 [==============================] - 65s 78ms/step - loss: 0.0037 - accuracy: 0.9989 - val_loss: 0.0045 - val_accuracy: 0.9987\n",
            "704/704 [==============================] - 8s 11ms/step - loss: 0.0247 - accuracy: 0.9936\n",
            "> 99.359912\n",
            "INFO:tensorflow:Assets written to: /content/drive/MyDrive/Kannada Mnist/Codes/Others/model.pb/assets\n"
          ],
          "name": "stdout"
        },
        {
          "output_type": "display_data",
          "data": {
            "image/png": "[encoded data removed]",
            "text/plain": [
              "<Figure size 432x288 with 2 Axes>"
            ]
          },
          "metadata": {
            "tags": []
          }
        },
        {
          "output_type": "stream",
          "text": [
            "Accuracy: mean=99.360 std=0.000, n=1\n"
          ],
          "name": "stdout"
        },
        {
          "output_type": "display_data",
          "data": {
            "image/png": "[encoded data removed]",
            "text/plain": [
              "<Figure size 432x288 with 1 Axes>"
            ]
          },
          "metadata": {
            "tags": []
          }
        }
      ]
    },
    {
      "cell_type": "code",
      "metadata": {
        "id": "HoIu0jX7r79g"
      },
      "source": [],
      "execution_count": null,
      "outputs": []
    }
  ]
}